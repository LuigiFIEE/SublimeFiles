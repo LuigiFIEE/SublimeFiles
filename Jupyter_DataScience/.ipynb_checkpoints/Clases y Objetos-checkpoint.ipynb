{
 "cells": [
  {
   "cell_type": "code",
   "execution_count": 2,
   "metadata": {},
   "outputs": [],
   "source": [
    "# Clases en python xd"
   ]
  },
  {
   "cell_type": "code",
   "execution_count": 16,
   "metadata": {},
   "outputs": [],
   "source": [
    "class gatitos :\n",
    "    \n",
    "    def __init__(self,character,age):\n",
    "        \n",
    "        self.character=character\n",
    "        self.age=age\n",
    "    def __str__(self):\n",
    "        return f\"Su nombre es {self.character} y su edad {self.age}\"\n",
    "        "
   ]
  },
  {
   "cell_type": "code",
   "execution_count": 17,
   "metadata": {},
   "outputs": [],
   "source": [
    "vaca=gatitos(\"Copito\",25)"
   ]
  },
  {
   "cell_type": "code",
   "execution_count": 18,
   "metadata": {},
   "outputs": [
    {
     "name": "stdout",
     "output_type": "stream",
     "text": [
      "Su nombre es Copito y su edad 25\n"
     ]
    }
   ],
   "source": [
    "print(vaca)"
   ]
  },
  {
   "cell_type": "code",
   "execution_count": 19,
   "metadata": {},
   "outputs": [
    {
     "name": "stdout",
     "output_type": "stream",
     "text": [
      "<class '__main__.gatitos'>\n"
     ]
    }
   ],
   "source": [
    "print(type(vaca))"
   ]
  },
  {
   "cell_type": "code",
   "execution_count": 20,
   "metadata": {},
   "outputs": [],
   "source": [
    "## Atributos dntro de una clase"
   ]
  },
  {
   "cell_type": "code",
   "execution_count": 21,
   "metadata": {},
   "outputs": [],
   "source": [
    "class comida:\n",
    "    pass\n"
   ]
  },
  {
   "cell_type": "code",
   "execution_count": 22,
   "metadata": {},
   "outputs": [],
   "source": [
    "plato=comida()"
   ]
  },
  {
   "cell_type": "code",
   "execution_count": 24,
   "metadata": {},
   "outputs": [
    {
     "name": "stdout",
     "output_type": "stream",
     "text": [
      "<class '__main__.comida'>\n"
     ]
    }
   ],
   "source": [
    "print(type(plato))\n",
    "plato.calorias=23                         ## Atributo \"calorias\"\n",
    "plato.nombre=\"Pollo a la grasa\"           ## Atributo \"nombre\""
   ]
  },
  {
   "cell_type": "code",
   "execution_count": 26,
   "metadata": {},
   "outputs": [
    {
     "name": "stdout",
     "output_type": "stream",
     "text": [
      "Tenemos un delicioso Pollo a la grasa que tiene 23 calorias\n"
     ]
    }
   ],
   "source": [
    "print(f\"Tenemos un delicioso {plato.nombre} que tiene {plato.calorias} calorias\")"
   ]
  },
  {
   "cell_type": "code",
   "execution_count": 27,
   "metadata": {},
   "outputs": [],
   "source": [
    "##  Metodos en python son las funciones dentro de la clase"
   ]
  },
  {
   "cell_type": "code",
   "execution_count": 36,
   "metadata": {},
   "outputs": [],
   "source": [
    "class saludo:\n",
    "    intensidad=\"fuerte\"\n",
    "    newton=24\n",
    "    \n",
    "    def text():\n",
    "        print (\"Habla kgda\")\n",
    "\n",
    "        \n",
    "    "
   ]
  },
  {
   "cell_type": "code",
   "execution_count": 38,
   "metadata": {},
   "outputs": [
    {
     "name": "stdout",
     "output_type": "stream",
     "text": [
      "Habla kgda\n"
     ]
    }
   ],
   "source": [
    "saludo.text()"
   ]
  },
  {
   "cell_type": "code",
   "execution_count": 40,
   "metadata": {},
   "outputs": [
    {
     "name": "stdout",
     "output_type": "stream",
     "text": [
      "fuerte\n"
     ]
    }
   ],
   "source": [
    "print(saludo.intensidad)"
   ]
  },
  {
   "cell_type": "code",
   "execution_count": 41,
   "metadata": {},
   "outputs": [
    {
     "name": "stdout",
     "output_type": "stream",
     "text": [
      "False\n"
     ]
    }
   ],
   "source": [
    "class Galleta:\n",
    "    chocolate = False\n",
    "\n",
    "    def chocolatear(self):\n",
    "        chocolate = True\n",
    "\n",
    "galleta = Galleta()\n",
    "galleta.chocolatear()\n",
    "print(galleta.chocolate)\n"
   ]
  },
  {
   "cell_type": "code",
   "execution_count": 42,
   "metadata": {},
   "outputs": [
    {
     "name": "stdout",
     "output_type": "stream",
     "text": [
      "True\n"
     ]
    }
   ],
   "source": [
    "class Galleta:\n",
    "    chocolate = False\n",
    "\n",
    "    def chocolatear(self):\n",
    "        self.chocolate = True\n",
    "\n",
    "galleta = Galleta()\n",
    "galleta.chocolatear()\n",
    "print(galleta.chocolate)\n"
   ]
  },
  {
   "cell_type": "code",
   "execution_count": 46,
   "metadata": {},
   "outputs": [
    {
     "name": "stdout",
     "output_type": "stream",
     "text": [
      "210\n",
      "210\n",
      "Pendejo Queen\n"
     ]
    }
   ],
   "source": [
    "class Cancion:\n",
    "\n",
    "    def __init__(self, autor, titulo, duracion):  # en segundos\n",
    "        self.duracion = duracion\n",
    "        self.autor=autor\n",
    "\n",
    "    def __len__(self):\n",
    "       return self.duracion\n",
    "\n",
    "    def __str__(self):\n",
    "        \n",
    "        return f\"Pendejo {self.autor}\"\n",
    "\n",
    "cancion = Cancion(\"Queen\", \"Don't Stop Me Now\", 210)\n",
    "\n",
    "print(len(cancion))\n",
    "print(cancion.__len__())\n",
    "print(cancion)"
   ]
  },
  {
   "cell_type": "code",
   "execution_count": null,
   "metadata": {},
   "outputs": [],
   "source": []
  }
 ],
 "metadata": {
  "kernelspec": {
   "display_name": "Python 3",
   "language": "python",
   "name": "python3"
  },
  "language_info": {
   "codemirror_mode": {
    "name": "ipython",
    "version": 3
   },
   "file_extension": ".py",
   "mimetype": "text/x-python",
   "name": "python",
   "nbconvert_exporter": "python",
   "pygments_lexer": "ipython3",
   "version": "3.8.3"
  }
 },
 "nbformat": 4,
 "nbformat_minor": 4
}
