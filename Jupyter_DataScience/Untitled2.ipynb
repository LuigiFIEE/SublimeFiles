{
 "cells": [
  {
   "cell_type": "markdown",
   "metadata": {},
   "source": [
    "<h2 align=\"center\"> Class and Super Class indroduction </h2>"
   ]
  },
  {
   "cell_type": "code",
   "execution_count": 1,
   "metadata": {},
   "outputs": [],
   "source": [
    "class Celulares:\n",
    "    \n",
    "    def __init__(self,marca,modelo):\n",
    "        \n",
    "        self.marca=marca\n",
    "        self.modelo=modelo\n",
    "    def __str__(self):\n",
    "        \n",
    "        return f\"La marca de tu celular es {self.marca} \\n y su modelo es {self.modelo}\"\n",
    "    "
   ]
  },
  {
   "cell_type": "code",
   "execution_count": 2,
   "metadata": {},
   "outputs": [],
   "source": [
    "luigi=Celulares(\"Iphone\",\"SE second edition\")\n",
    "jose=Celulares(\"Samsung\",\"SE10\")"
   ]
  },
  {
   "cell_type": "code",
   "execution_count": 3,
   "metadata": {},
   "outputs": [
    {
     "name": "stdout",
     "output_type": "stream",
     "text": [
      "La marca de tu celular es Iphone \n",
      " y su modelo es SE second edition \n",
      "\n",
      " La marca de tu celular es Samsung \n",
      " y su modelo es SE10\n"
     ]
    }
   ],
   "source": [
    "print (luigi,\"\\n\\n\",jose)"
   ]
  },
  {
   "cell_type": "code",
   "execution_count": 4,
   "metadata": {
    "scrolled": false
   },
   "outputs": [],
   "source": [
    "class precio(Celulares):\n",
    "    \n",
    "    calidad=\"\"\n",
    "    precio=\"\"\n",
    "    \n",
    "    def __str__(self):\n",
    "        return f\"Tu celular es {self.marca} con modelo {self.modelo} con calidad {self.calidad} y precio {self.precio}\"\n",
    "        "
   ]
  },
  {
   "cell_type": "code",
   "execution_count": 5,
   "metadata": {},
   "outputs": [
    {
     "name": "stdout",
     "output_type": "stream",
     "text": [
      "Tu celular es Iphone con modelo SE second con calidad Gama alta y precio Expensive\n"
     ]
    }
   ],
   "source": [
    "iphone=precio(\"Iphone\",\"SE second\")\n",
    "iphone.calidad=\"Gama alta\"\n",
    "iphone.precio=\"Expensive\"\n",
    "print(iphone)"
   ]
  },
  {
   "cell_type": "code",
   "execution_count": null,
   "metadata": {},
   "outputs": [],
   "source": [
    "class tienda(Celulares):\n",
    "    "
   ]
  }
 ],
 "metadata": {
  "kernelspec": {
   "display_name": "Python 3",
   "language": "python",
   "name": "python3"
  },
  "language_info": {
   "codemirror_mode": {
    "name": "ipython",
    "version": 3
   },
   "file_extension": ".py",
   "mimetype": "text/x-python",
   "name": "python",
   "nbconvert_exporter": "python",
   "pygments_lexer": "ipython3",
   "version": "3.8.3"
  }
 },
 "nbformat": 4,
 "nbformat_minor": 4
}
